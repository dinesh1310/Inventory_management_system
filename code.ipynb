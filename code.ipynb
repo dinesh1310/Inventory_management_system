{
  "nbformat": 4,
  "nbformat_minor": 0,
  "metadata": {
    "colab": {
      "name": "code.ipynb",
      "provenance": [],
      "authorship_tag": "ABX9TyPlTeKl00+9rrZ6lrXq1bls",
      "include_colab_link": true
    },
    "kernelspec": {
      "name": "python3",
      "display_name": "Python 3"
    },
    "language_info": {
      "name": "python"
    }
  },
  "cells": [
    {
      "cell_type": "markdown",
      "metadata": {
        "id": "view-in-github",
        "colab_type": "text"
      },
      "source": [
        "<a href=\"https://colab.research.google.com/github/dinesh1310/Inventory_management_system/blob/main/code.ipynb\" target=\"_parent\"><img src=\"https://colab.research.google.com/assets/colab-badge.svg\" alt=\"Open In Colab\"/></a>"
      ]
    },
    {
      "cell_type": "code",
      "metadata": {
        "colab": {
          "base_uri": "https://localhost:8080/"
        },
        "id": "JL_RENhH2cqw",
        "outputId": "c861f069-0b2d-476d-d17d-f36bdaa79f3e"
      },
      "source": [
        "import json\n",
        "with open('student.json') as f:\n",
        "  data = json.load(f)\n",
        "print(\"*********Welcome to the database*********\")\n",
        "print(\"1.View student details : \")\n",
        "print(\"2.search student : \")\n",
        "print(\"3.delete  student record : \")\n",
        "print(\"4.Add new  student record : \")\n",
        "print(\"*****************************************\")\n",
        "\n",
        "check = 'y'\n",
        "while(check == 'y'):\n",
        "  a = int(input(\"enter choice : \"))\n",
        "  if(a==1):\n",
        "       print(data)\n",
        "  if(a==2):\n",
        "       reg = input(\"enter reg number : \")\n",
        "       print (data[reg]['name'])\n",
        "       print (data[reg]['reg_no'])\n",
        "       print (data[reg]['phone'])\n",
        "       print (data[reg]['dep'])\n",
        "       print (data[reg]['cgpa'])\n",
        "  if(a==3):\n",
        "       reg = input(\"enter reg number : \")\n",
        "       del data[reg]\n",
        "       print(data)\n",
        "  if(a==4):\n",
        "       New_reg = input(\"Enter the Reg NO : \")\n",
        "       New_name = input(\"Enter the Name : \")\n",
        "       New_phone = input(\"Enter the Phone NO : \")\n",
        "       New_dep = input(\"Enter the Department : \")\n",
        "       New_cgpa = input(\"Enter the CGPA value : \")\n",
        "       data[New_reg] = {'name': New_name,'reg_no' : New_reg,'phone' : New_phone,'dep' : New_dep,'cgpa' : New_cgpa}\n",
        "       \n",
        "       js = json.dumps(data)\n",
        "       \n",
        "       f =  open(\"student.json\",\"w\")\n",
        "       f.write(js)\n",
        "       f.close()\n",
        "       print(\"Record added successfull !!!\")\n",
        "  check = input(\"Do you want to continue(y/n)? \")\n",
        "print(\"Thank you!!!\")\n",
        "\n"
      ],
      "execution_count": null,
      "outputs": [
        {
          "name": "stdout",
          "output_type": "stream",
          "text": [
            "*********Welcome to the database*********\n",
            "1.View student details : \n",
            "2.search student : \n",
            "3.delete  student record : \n",
            "4.Add new  student record : \n",
            "*****************************************\n",
            "enter choice : 1\n"
          ]
        }
      ]
    }
  ]
}